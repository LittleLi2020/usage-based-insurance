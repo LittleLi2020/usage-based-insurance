{
 "cells": [
  {
   "cell_type": "code",
   "execution_count": 1,
   "id": "49040140-fe28-4af6-b827-2ac1d4d0241a",
   "metadata": {},
   "outputs": [],
   "source": [
    "import pandas as pd\n",
    "import numpy as np\n",
    "import os\n",
    "os.chdir(r\"D:\\Research\\UBI车险\\data\\demo_data\")"
   ]
  },
  {
   "cell_type": "code",
   "execution_count": 2,
   "id": "08685990-da36-473a-8142-b1cbb9872766",
   "metadata": {},
   "outputs": [],
   "source": [
    "# import data\n",
    "x_col_names = [\"Distance\",\"Average_speed\",\"acceleration_events\",\"sudden_starts\",\"abrupt_lane_changes\",\"intense_brakes\",\"sudden_stops\",\"abrupt_steerings\"]\n",
    "def import_data(i):\n",
    "    file_name = \"fold_{}_1-10.xlsx\".format(i)\n",
    "    x_train = pd.DataFrame(columns = x_col_names)\n",
    "    x_test = pd.DataFrame(columns = x_col_names)\n",
    "    y_train = pd.DataFrame(columns = [\"score\"])\n",
    "    y_test = pd.DataFrame(columns = [\"score\"])\n",
    "\n",
    "    x_train_part = pd.read_excel(file_name,header = None, names = x_col_names,sheet_name = \"xtrain\")\n",
    "    x_test_part = pd.read_excel(file_name,header = None, names = x_col_names,sheet_name = \"xtest\")\n",
    "    x_train = pd.concat([x_train,x_train_part],axis = 0)\n",
    "    x_test = pd.concat([x_test,x_test_part],axis = 0)\n",
    "\n",
    "    y_train_part = pd.read_excel(file_name,header = None, names = [\"score\"],sheet_name = \"ytrain\")\n",
    "    y_test_part = pd.read_excel(file_name,header = None, names = [\"score\"],sheet_name = \"ytest\")\n",
    "    y_train = pd.concat([y_train,y_train_part],axis = 0)\n",
    "    y_test = pd.concat([y_test,y_test_part],axis = 0)\n",
    "\n",
    "    df_train = pd.concat([x_train,y_train],axis = 1)\n",
    "    df_test = pd.concat([x_test,y_test],axis = 1)\n",
    "    df_train = df_train.drop_duplicates(subset = x_col_names)\n",
    "    df_test = df_test.drop_duplicates(subset = x_col_names)\n",
    "\n",
    "    for col in x_col_names + [\"score\"]:\n",
    "        df_train[col] = df_train[col].astype(int)\n",
    "        df_test[col] = df_test[col].astype(int)\n",
    "    return df_train,df_test"
   ]
  },
  {
   "cell_type": "code",
   "execution_count": 15,
   "id": "e208c25e-d697-49f7-ad60-b8dc5c312cbe",
   "metadata": {},
   "outputs": [
    {
     "data": {
      "text/html": [
       "<div>\n",
       "<style scoped>\n",
       "    .dataframe tbody tr th:only-of-type {\n",
       "        vertical-align: middle;\n",
       "    }\n",
       "\n",
       "    .dataframe tbody tr th {\n",
       "        vertical-align: top;\n",
       "    }\n",
       "\n",
       "    .dataframe thead th {\n",
       "        text-align: right;\n",
       "    }\n",
       "</style>\n",
       "<table border=\"1\" class=\"dataframe\">\n",
       "  <thead>\n",
       "    <tr style=\"text-align: right;\">\n",
       "      <th></th>\n",
       "      <th>Distance</th>\n",
       "      <th>Average_speed</th>\n",
       "      <th>acceleration_events</th>\n",
       "      <th>sudden_starts</th>\n",
       "      <th>abrupt_lane_changes</th>\n",
       "      <th>intense_brakes</th>\n",
       "      <th>sudden_stops</th>\n",
       "      <th>abrupt_steerings</th>\n",
       "      <th>score</th>\n",
       "    </tr>\n",
       "  </thead>\n",
       "  <tbody>\n",
       "    <tr>\n",
       "      <th>0</th>\n",
       "      <td>5</td>\n",
       "      <td>8</td>\n",
       "      <td>3</td>\n",
       "      <td>6</td>\n",
       "      <td>3</td>\n",
       "      <td>3</td>\n",
       "      <td>4</td>\n",
       "      <td>5</td>\n",
       "      <td>4</td>\n",
       "    </tr>\n",
       "    <tr>\n",
       "      <th>1</th>\n",
       "      <td>9</td>\n",
       "      <td>9</td>\n",
       "      <td>5</td>\n",
       "      <td>5</td>\n",
       "      <td>3</td>\n",
       "      <td>0</td>\n",
       "      <td>0</td>\n",
       "      <td>6</td>\n",
       "      <td>6</td>\n",
       "    </tr>\n",
       "    <tr>\n",
       "      <th>2</th>\n",
       "      <td>3</td>\n",
       "      <td>3</td>\n",
       "      <td>2</td>\n",
       "      <td>2</td>\n",
       "      <td>3</td>\n",
       "      <td>2</td>\n",
       "      <td>2</td>\n",
       "      <td>0</td>\n",
       "      <td>7</td>\n",
       "    </tr>\n",
       "    <tr>\n",
       "      <th>3</th>\n",
       "      <td>7</td>\n",
       "      <td>4</td>\n",
       "      <td>3</td>\n",
       "      <td>3</td>\n",
       "      <td>3</td>\n",
       "      <td>5</td>\n",
       "      <td>2</td>\n",
       "      <td>4</td>\n",
       "      <td>4</td>\n",
       "    </tr>\n",
       "    <tr>\n",
       "      <th>4</th>\n",
       "      <td>9</td>\n",
       "      <td>10</td>\n",
       "      <td>6</td>\n",
       "      <td>3</td>\n",
       "      <td>8</td>\n",
       "      <td>5</td>\n",
       "      <td>0</td>\n",
       "      <td>4</td>\n",
       "      <td>4</td>\n",
       "    </tr>\n",
       "  </tbody>\n",
       "</table>\n",
       "</div>"
      ],
      "text/plain": [
       "   Distance  Average_speed  acceleration_events  sudden_starts  \\\n",
       "0         5              8                    3              6   \n",
       "1         9              9                    5              5   \n",
       "2         3              3                    2              2   \n",
       "3         7              4                    3              3   \n",
       "4         9             10                    6              3   \n",
       "\n",
       "   abrupt_lane_changes  intense_brakes  sudden_stops  abrupt_steerings  score  \n",
       "0                    3               3             4                 5      4  \n",
       "1                    3               0             0                 6      6  \n",
       "2                    3               2             2                 0      7  \n",
       "3                    3               5             2                 4      4  \n",
       "4                    8               5             0                 4      4  "
      ]
     },
     "execution_count": 15,
     "metadata": {},
     "output_type": "execute_result"
    }
   ],
   "source": [
    "df_train,df_test = import_data(1)\n",
    "df_train.head(5)"
   ]
  },
  {
   "cell_type": "code",
   "execution_count": 3,
   "id": "c4546c60-5871-4631-a780-0276f754d66d",
   "metadata": {},
   "outputs": [],
   "source": [
    "# define varaibles"
   ]
  },
  {
   "cell_type": "markdown",
   "id": "c488448f-d14d-4b2b-910a-79a73d83b6f8",
   "metadata": {},
   "source": [
    "$y$ = score\n",
    "\n",
    "$x_1$ = Distance, \n",
    "\n",
    "$x_2$ = Average speed, \n",
    "\n",
    "$x_3$ = # of acceleration events, \n",
    "\n",
    "$x_4$ = # of sudden starts, \n",
    "\n",
    "$x_5$ = # of abrupt lane changes, \n",
    "\n",
    "$x_6$ = # intence brakes\n",
    "\n",
    "$x_7$ = # of sudden stops, \n",
    "\n",
    "$x_8$ = # of abrupt steering"
   ]
  },
  {
   "cell_type": "code",
   "execution_count": null,
   "id": "60b1f192-7321-4b4d-ad52-1e443ca47170",
   "metadata": {},
   "outputs": [],
   "source": [
    "# 5 Machine Learning Methods"
   ]
  },
  {
   "cell_type": "markdown",
   "id": "b481d3f1-c139-404a-a9f4-c47c80ce0c94",
   "metadata": {},
   "source": [
    "Driver Safety Index(Saiprasert et al., 2014)\n",
    "\n",
    "Genetic Programming(López et al., 2018)\n",
    "\n",
    "Bayesian Ridge Regression(Eran et al., 2012)\n",
    "\n",
    "Random Forest(Breiman, 2001)\n",
    "\n",
    "neural network(Haykin, 2003)\n"
   ]
  },
  {
   "cell_type": "code",
   "execution_count": null,
   "id": "2a059eff-5ad6-45d3-810e-edc750fa0088",
   "metadata": {},
   "outputs": [],
   "source": [
    "# Model Evaluation"
   ]
  },
  {
   "cell_type": "markdown",
   "id": "aaac0a26-1d15-45b7-bf73-9dd546ff3cef",
   "metadata": {},
   "source": [
    "$$\n",
    "RMSE = \\sqrt{\\frac{1}{n} \\sum_{i=1}^n (\\hat{y} - y)^2}\n",
    "$$"
   ]
  },
  {
   "cell_type": "code",
   "execution_count": 4,
   "id": "2d94a921-daf0-4a58-9b43-ad07ebe025a4",
   "metadata": {},
   "outputs": [],
   "source": [
    "RMSE_model_list = []"
   ]
  },
  {
   "cell_type": "code",
   "execution_count": 5,
   "id": "81b665bd-cc39-44c0-aa5b-99df634aebfa",
   "metadata": {},
   "outputs": [],
   "source": [
    "# Driver Safety Index(Saiprasert et al., 2014)"
   ]
  },
  {
   "cell_type": "markdown",
   "id": "1c5bbba9-c47b-4f88-82e2-cb2c726532ad",
   "metadata": {},
   "source": [
    "$$\n",
    "y = 1 - \\frac{1}{x_1} ( -1.0580 x_2 +  1.3695 x_3 +  2.3714 x_4 +  1.2127 x_5 +  1.7082 x_6 +  0.4527 x_7 +  1.2374 x_8 )\n",
    "$$"
   ]
  },
  {
   "cell_type": "code",
   "execution_count": 6,
   "id": "bd3f9adf-d274-485c-852c-1077be42d4c9",
   "metadata": {},
   "outputs": [
    {
     "name": "stdout",
     "output_type": "stream",
     "text": [
      "RMSE:  2.927742203640457\n"
     ]
    }
   ],
   "source": [
    "from sklearn.linear_model import LinearRegression\n",
    "RMSE_list = []\n",
    "for i in range(1,11):\n",
    "    df_train,df_test = import_data(i)\n",
    "    lm_model = LinearRegression(fit_intercept = False)\n",
    "    x_col_names_lm = [\"Average_speed\",\"acceleration_events\",\"sudden_starts\",\"abrupt_lane_changes\",\"intense_brakes\",\"sudden_stops\",\"abrupt_steerings\"]\n",
    "    x_train_lm = np.array(df_train[x_col_names_lm]) / np.array(df_train[\"Distance\"]).reshape(len(df_train),1)\n",
    "    x_test_lm = np.array(df_test[x_col_names_lm]) / np.array(df_test[\"Distance\"]).reshape(len(df_test),1)\n",
    "    y_train_lm = np.array(10 - df_train[\"score\"])\n",
    "    lm_model.fit(x_train_lm ,y_train_lm)\n",
    "\n",
    "    df_test[\"pred_lm\"] = 10 - np.dot(lm_model.coef_,x_test_lm.T)\n",
    "    RMSE = np.sqrt(np.mean((df_test[\"score\"] - df_test[\"pred_lm\"])**2))\n",
    "    RMSE_list.append(RMSE)\n",
    "print(\"RMSE: \",np.mean(RMSE_list))\n",
    "RMSE_model_list.append({\"model\":\"Safety Index\",\"RMSE\":np.mean(RMSE_list)})"
   ]
  },
  {
   "cell_type": "code",
   "execution_count": 7,
   "id": "dadad9e4-3739-44e7-8c9d-8e52ef9cea3e",
   "metadata": {},
   "outputs": [],
   "source": [
    "# Genetic Programming(López et al., 2018)"
   ]
  },
  {
   "cell_type": "markdown",
   "id": "74c17170-f91f-426b-9ede-9a209538c64a",
   "metadata": {},
   "source": [
    "$$\n",
    "\\begin{aligned}\n",
    "y=& 9.153-0.1119 x_6-0.1119 x_7-0.1119 x_8-2.516 e^{-\\frac{1.0 x_2}{x_4}} \\\\\n",
    "&-0.1119 e^{-1.0 x_1}-0.01742 x_2\\left(x_2+e^{-1.0 x_1}+e^{-1.0 x_4}\\right) \\\\\n",
    "&-0.2239 x_2\n",
    "\\end{aligned}\n",
    "$$"
   ]
  },
  {
   "cell_type": "code",
   "execution_count": 8,
   "id": "89873752-fa06-4c65-a24f-75cf28443018",
   "metadata": {},
   "outputs": [
    {
     "name": "stdout",
     "output_type": "stream",
     "text": [
      "RMSE:  1.2234006634096177\n"
     ]
    }
   ],
   "source": [
    "RMSE_list = []\n",
    "for i in range(1,11):\n",
    "    df_train,df_test = import_data(i)\n",
    "    df_test[\"pred_gp\"] = 9.153 - 0.1119 * df_test[\"intense_brakes\"] - 0.1119 * df_test[\"sudden_stops\"] - 0.1119 * df_test[\"abrupt_steerings\"] - 2.516 * np.exp(-df_test[\"Average_speed\"] / df_test[\"sudden_starts\"]) - \\\n",
    "    0.1119 * np.exp(-df_test[\"Distance\"]) - 0.01742 * df_test[\"Average_speed\"] * (df_test[\"Average_speed\"] + np.exp(-df_test[\"Distance\"]) + np.exp(-df_test[\"sudden_starts\"])) - 0.2239 * df_test[\"Average_speed\"]\n",
    "\n",
    "    RMSE = np.sqrt(np.mean((df_test[\"score\"] - df_test[\"pred_gp\"])**2))\n",
    "    RMSE_list.append(RMSE)\n",
    "print(\"RMSE: \",np.mean(RMSE_list))\n",
    "RMSE_model_list.append({\"model\":\"Genetic Programming\",\"RMSE\":np.mean(RMSE_list)})"
   ]
  },
  {
   "cell_type": "code",
   "execution_count": 9,
   "id": "d242c9aa-7ed1-4e99-8f46-77d9ad2f407c",
   "metadata": {},
   "outputs": [],
   "source": [
    "# Bayesian Ridge Regression(Eran et al., 2012)"
   ]
  },
  {
   "cell_type": "markdown",
   "id": "01563884-8420-4dd1-b86a-6c0eaa321b67",
   "metadata": {},
   "source": [
    "$$\n",
    "y = 8.2492 + 0.03783x_1  - 0.2751x_2  - 0.003735x_3  - 0.1322x_4  - 0.01145x_5  - 0.1122 x_6 - 0.1501x_7  -0.1301x_8\n",
    "$$"
   ]
  },
  {
   "cell_type": "code",
   "execution_count": 10,
   "id": "4f8776b7-02a5-46e5-a03d-cc2d93ea7d79",
   "metadata": {},
   "outputs": [
    {
     "name": "stdout",
     "output_type": "stream",
     "text": [
      "RMSE:  1.2789433772391507\n"
     ]
    }
   ],
   "source": [
    "from sklearn.linear_model import BayesianRidge\n",
    "RMSE_list = []\n",
    "for i in range(1,11):\n",
    "    df_train,df_test = import_data(i)\n",
    "    br_model = BayesianRidge(fit_intercept = True,verbose = False)\n",
    "    x_train_br = np.array(df_train[x_col_names])\n",
    "    x_test_br = np.array(df_test[x_col_names])\n",
    "    y_train_br = np.array(df_train[\"score\"])\n",
    "    br_model.fit(x_train_br,y_train_br)\n",
    "\n",
    "    df_test[\"pred_br\"] = np.dot(br_model.coef_,x_test_br.T) + br_model.intercept_\n",
    "    RMSE = np.sqrt(np.mean((df_test[\"score\"] - df_test[\"pred_br\"])**2))\n",
    "    RMSE_list.append(RMSE)\n",
    "print(\"RMSE: \",np.mean(RMSE_list))\n",
    "RMSE_model_list.append({\"model\":\"BayesianRidge\",\"RMSE\":np.mean(RMSE_list)})"
   ]
  },
  {
   "cell_type": "code",
   "execution_count": 11,
   "id": "c26029ec-ecd4-4f38-87d0-a5048f6cff2e",
   "metadata": {},
   "outputs": [
    {
     "name": "stdout",
     "output_type": "stream",
     "text": [
      "RMSE:  1.2610998923592194\n"
     ]
    }
   ],
   "source": [
    "# Random Forest(Breiman, 2001)\n",
    "from sklearn.ensemble import RandomForestRegressor\n",
    "RMSE_list = []\n",
    "for i in range(1,11):\n",
    "    df_train,df_test = import_data(i)\n",
    "    rf_model = RandomForestRegressor()\n",
    "    x_train_rf = np.array(df_train[x_col_names])\n",
    "    x_test_rf = np.array(df_test[x_col_names])\n",
    "    y_train_rf = np.array(df_train[\"score\"])\n",
    "    rf_model.fit(x_train_rf,y_train_rf)\n",
    "\n",
    "    df_test[\"pred_rf\"] = rf_model.predict(x_test_rf)\n",
    "    RMSE = np.sqrt(np.mean((df_test[\"score\"] - df_test[\"pred_rf\"])**2))\n",
    "    RMSE_list.append(RMSE)\n",
    "print(\"RMSE: \",np.mean(RMSE_list))\n",
    "RMSE_model_list.append({\"model\":\"Random Forest\",\"RMSE\":np.mean(RMSE_list)})"
   ]
  },
  {
   "cell_type": "code",
   "execution_count": 12,
   "id": "a52f3c3f-854e-48df-8e87-e7bac57c0ce4",
   "metadata": {},
   "outputs": [
    {
     "name": "stdout",
     "output_type": "stream",
     "text": [
      "RMSE:  1.5781743777796506\n"
     ]
    }
   ],
   "source": [
    "# neural network(Haykin, 2003)\n",
    "from sklearn.neural_network import MLPRegressor\n",
    "RMSE_list = []\n",
    "for i in range(1,11):\n",
    "    df_train,df_test = import_data(i)\n",
    "    nn_model = MLPRegressor(max_iter=200,batch_size = 10,learning_rate_init = 0.01)\n",
    "    x_train_nn = np.array(df_train[x_col_names])\n",
    "    x_test_nn = np.array(df_test[x_col_names])\n",
    "    y_train_nn = np.array(df_train[\"score\"])\n",
    "    nn_model.fit(x_train_nn,y_train_nn)\n",
    "    \n",
    "    df_test[\"pred_nn\"] = nn_model.predict(x_test_nn)\n",
    "    RMSE = np.sqrt(np.mean((df_test[\"score\"] - df_test[\"pred_nn\"])**2))\n",
    "    RMSE_list.append(RMSE)\n",
    "print(\"RMSE: \",np.mean(RMSE_list))\n",
    "RMSE_model_list.append({\"model\":\"Neral Network\",\"RMSE\":np.mean(RMSE_list)})"
   ]
  },
  {
   "cell_type": "code",
   "execution_count": 14,
   "id": "6eaff56d-ee75-4ed0-8ffb-5c147bc44a41",
   "metadata": {},
   "outputs": [
    {
     "data": {
      "text/html": [
       "<div>\n",
       "<style scoped>\n",
       "    .dataframe tbody tr th:only-of-type {\n",
       "        vertical-align: middle;\n",
       "    }\n",
       "\n",
       "    .dataframe tbody tr th {\n",
       "        vertical-align: top;\n",
       "    }\n",
       "\n",
       "    .dataframe thead th {\n",
       "        text-align: right;\n",
       "    }\n",
       "</style>\n",
       "<table border=\"1\" class=\"dataframe\">\n",
       "  <thead>\n",
       "    <tr style=\"text-align: right;\">\n",
       "      <th></th>\n",
       "      <th>model</th>\n",
       "      <th>RMSE</th>\n",
       "    </tr>\n",
       "  </thead>\n",
       "  <tbody>\n",
       "    <tr>\n",
       "      <th>1</th>\n",
       "      <td>Genetic Programming</td>\n",
       "      <td>1.223401</td>\n",
       "    </tr>\n",
       "    <tr>\n",
       "      <th>3</th>\n",
       "      <td>Random Forest</td>\n",
       "      <td>1.261100</td>\n",
       "    </tr>\n",
       "    <tr>\n",
       "      <th>2</th>\n",
       "      <td>BayesianRidge</td>\n",
       "      <td>1.278943</td>\n",
       "    </tr>\n",
       "    <tr>\n",
       "      <th>4</th>\n",
       "      <td>Neral Network</td>\n",
       "      <td>1.578174</td>\n",
       "    </tr>\n",
       "    <tr>\n",
       "      <th>0</th>\n",
       "      <td>Safety Index</td>\n",
       "      <td>2.927742</td>\n",
       "    </tr>\n",
       "  </tbody>\n",
       "</table>\n",
       "</div>"
      ],
      "text/plain": [
       "                 model      RMSE\n",
       "1  Genetic Programming  1.223401\n",
       "3        Random Forest  1.261100\n",
       "2        BayesianRidge  1.278943\n",
       "4        Neral Network  1.578174\n",
       "0         Safety Index  2.927742"
      ]
     },
     "execution_count": 14,
     "metadata": {},
     "output_type": "execute_result"
    }
   ],
   "source": [
    "RMSE_model_comparison = pd.DataFrame(RMSE_model_list)\n",
    "RMSE_model_comparison = RMSE_model_comparison.sort_values(by = \"RMSE\")\n",
    "RMSE_model_comparison"
   ]
  }
 ],
 "metadata": {
  "kernelspec": {
   "display_name": "Python 3 (ipykernel)",
   "language": "python",
   "name": "python3"
  },
  "language_info": {
   "codemirror_mode": {
    "name": "ipython",
    "version": 3
   },
   "file_extension": ".py",
   "mimetype": "text/x-python",
   "name": "python",
   "nbconvert_exporter": "python",
   "pygments_lexer": "ipython3",
   "version": "3.9.7"
  }
 },
 "nbformat": 4,
 "nbformat_minor": 5
}
