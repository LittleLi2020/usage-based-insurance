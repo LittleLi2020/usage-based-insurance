{
 "cells": [
  {
   "cell_type": "code",
   "execution_count": 1,
   "id": "02cad7fd-e07b-471f-881f-8f4b2100c634",
   "metadata": {},
   "outputs": [],
   "source": [
    "import pandas as pd\n",
    "import numpy as np\n",
    "import matplotlib.pyplot as plt\n",
    "import seaborn as sns\n",
    "import os\n",
    "from functools import reduce\n",
    "import time\n",
    "from sklearn.neighbors import KernelDensity\n",
    "from sklearn.decomposition import PCA"
   ]
  },
  {
   "cell_type": "code",
   "execution_count": 2,
   "id": "1936a18e-3e33-42ce-b647-3e5189edb605",
   "metadata": {},
   "outputs": [],
   "source": [
    "def import_data(path,id_column,var_column,new_id_column):\n",
    "    os.chdir(path)\n",
    "    file_names = os.listdir()\n",
    "    df_all = pd.DataFrame(columns = [id_column,var_column])\n",
    "    for file_name in file_names:\n",
    "        df = pd.read_csv(file_name)\n",
    "        df = df[[id_column,var_column]]\n",
    "        df = df.dropna()\n",
    "        df[id_column] = df[id_column].astype(\"int\")\n",
    "        df_all = pd.concat([df_all,df],axis = 0)\n",
    "    df_all = df_all.drop_duplicates(subset = id_column).reset_index(drop = True)\n",
    "    df_all.rename(columns = {id_column:new_id_column}, inplace = True)\n",
    "    return df_all\n",
    "def get_tgAcceleration(df,speed,time):\n",
    "    \"\"\"Calculate tangential acceleration.\"\"\"\n",
    "    dVehSpdLgtA = df[speed].diff() / 3.6\n",
    "    dt = df[time].diff()\n",
    "    df[\"tg_acceleration\"] = dVehSpdLgtA / dt\n",
    "    return df\n",
    "def get_dPinion(df,pinion,time):\n",
    "    \"\"\"Calculate dpinion\"\"\"\n",
    "    dpinion = df[pinion].diff()\n",
    "    dt = df[time].diff()\n",
    "    df[\"dpinion\"] = dpinion / dt\n",
    "    return df\n",
    "def get_rdAcceleration(df,VehWheelSteer,speed,time):\n",
    "    \"\"\"Calculate radio Acceleration\"\"\"\n",
    "    dVehWheelSteer = df[VehWheelSteer].diff()\n",
    "    dt = df[time].diff()\n",
    "    df[\"rd_acceleration\"] = (dVehWheelSteer / dt) * df[speed]\n",
    "    return df\n",
    "def timestamp2date(timestamp):\n",
    "    \"\"\"Convert timestamp to datetime.\"\"\"\n",
    "    timeArray = time.localtime(timestamp)\n",
    "    formatted_time = time.strftime(\"%Y-%m-%d %H:%M:%S\", timeArray)\n",
    "    return formatted_time\n",
    "def partition_journey(df,time):\n",
    "    df[\"dt\"] = df[time].diff()\n",
    "    df[\"stop\"] = df[\"dt\"] != 1\n",
    "    df[\"journeyID\"] = df[\"stop\"].cumsum()\n",
    "    df = df.drop([\"dt\",\"stop\"],axis = 1)\n",
    "    return df\n",
    "def kde2D(x, y, bandwidth, xbins=10j, ybins=10j, **kwargs): \n",
    "    \"\"\"Build 2D kernel density estimate (KDE).\"\"\"\n",
    "    \n",
    "    # create grid of sample locations (default: 10x10)\n",
    "    xx, yy = np.mgrid[x.min():x.max():xbins, \n",
    "                      y.min():y.max():ybins]\n",
    "\n",
    "    xy_sample = np.vstack([yy.ravel(), xx.ravel()]).T\n",
    "    xy_train  = np.vstack([y, x]).T\n",
    "\n",
    "    kde_skl = KernelDensity(bandwidth=bandwidth, **kwargs)\n",
    "    kde_skl.fit(xy_train)\n",
    "\n",
    "    # score_samples() returns the log-likelihood of the samples\n",
    "    z = np.exp(kde_skl.score_samples(xy_sample))\n",
    "    zz = np.reshape(z, xx.shape)\n",
    "    z_norm = z / z.sum()\n",
    "    z_norm= z_norm.ravel()\n",
    "    return xx,yy,zz,z_norm\n",
    "def speed_dpinion_factor(df,journeyID,speed,dpinion,bandwidth,bins_num,components_num):\n",
    "    results = df.groupby(journeyID).apply(lambda x:kde2D(x[speed],x[dpinion],bandwidth = bandwidth))\n",
    "    results = [{journeyID:index, \"z_norm\":results[index][-1]} for index in results.index]\n",
    "    z_norms = pd.DataFrame(results)\n",
    "    z_norms = pd.DataFrame(z_norms[\"z_norm\"].to_list(),columns = [\"z_norm\" + str(i) for i in range(1,bins_num+1)])\n",
    "    mean = z_norms.mean(axis = 0)\n",
    "    std = z_norms.std(axis = 0)\n",
    "    z_norms = (z_norms - mean)/std\n",
    "    pca = PCA(n_components = components_num)\n",
    "    pca.fit(z_norms)\n",
    "    print(\"explained_variance_ratio_: \",pca.explained_variance_ratio_)\n",
    "    print(\"cummulative explained_variance_ratio_: \",np.cumsum(pca.explained_variance_ratio_))\n",
    "    pca_score = np.dot(z_norms,pca.components_.T)\n",
    "    first_pca_score = pca_score[:,0]\n",
    "    journeyIDs = [result[journeyID] for result in results]\n",
    "    first_pca_score = pd.Series(first_pca_score,index = journeyIDs)\n",
    "    first_pca_score.index.name = journeyID\n",
    "    first_pca_score.name = \"Steering\"\n",
    "    return first_pca_score\n",
    "def speed_rdAcc_factor(df,journeyID,speed,rd_acc,bandwidth,bins_num,components_num):\n",
    "    results = df.groupby(journeyID).apply(lambda x:kde2D(x[speed],x[rd_acc],bandwidth = bandwidth))\n",
    "    results = [{journeyID:index, \"z_norm\":results[index][-1]} for index in results.index]\n",
    "    z_norms = pd.DataFrame(results)\n",
    "    z_norms = pd.DataFrame(z_norms[\"z_norm\"].to_list(),columns = [\"z_norm\" + str(i) for i in range(1,bins_num+1)])\n",
    "    mean = z_norms.mean(axis = 0)\n",
    "    std = z_norms.std(axis = 0)\n",
    "    z_norms = (z_norms - mean)/std\n",
    "    pca = PCA(n_components = components_num)\n",
    "    pca.fit(z_norms)\n",
    "    print(\"explained_variance_ratio_: \",pca.explained_variance_ratio_)\n",
    "    print(\"cummulative explained_variance_ratio_: \",np.cumsum(pca.explained_variance_ratio_))\n",
    "    pca_score = np.dot(z_norms,pca.components_.T)\n",
    "    first_pca_score = pca_score[:,0]\n",
    "    journeyIDs = [result[journeyID] for result in results]\n",
    "    first_pca_score = pd.Series(first_pca_score,index = journeyIDs)\n",
    "    first_pca_score.index.name = journeyID\n",
    "    first_pca_score.name = \"Steering\"\n",
    "    return first_pca_score\n",
    "def speed_tgAcc_factor(df,journeyID,speed,tg_acc,bandwidth,bins_num,components_num):\n",
    "    results = df.groupby(journeyID).apply(lambda x:kde2D(x[speed],x[tg_acc],bandwidth = bandwidth))\n",
    "    results = [{journeyID:index, \"z_norm\":results[index][-1]} for index in results.index]\n",
    "    z_norms = pd.DataFrame(results)\n",
    "    z_norms = pd.DataFrame(z_norms[\"z_norm\"].to_list(),columns = [\"z_norm\" + str(i) for i in range(1,bins_num+1)])\n",
    "    mean = z_norms.mean(axis = 0)\n",
    "    std = z_norms.std(axis = 0)\n",
    "    z_norms = (z_norms - mean)/std\n",
    "    pca = PCA(n_components = components_num)\n",
    "    pca.fit(z_norms)\n",
    "    print(\"explained_variance_ratio_: \",pca.explained_variance_ratio_)\n",
    "    print(\"cummulative explained_variance_ratio_: \",np.cumsum(pca.explained_variance_ratio_))\n",
    "    pca_score = np.dot(z_norms,pca.components_.T)\n",
    "    first_pca_score = pca_score[:,0]\n",
    "    journeyIDs = [result[journeyID] for result in results]\n",
    "    first_pca_score = pd.Series(first_pca_score,index = journeyIDs)\n",
    "    first_pca_score.index.name = journeyID\n",
    "    first_pca_score.name = \"Ac(De)celeration\"\n",
    "    return first_pca_score\n",
    "def make_radar_chart(name, stats, avg_stats,attribute_labels,\n",
    "                     plot_markers):\n",
    "\n",
    "    angles = np.linspace(0, 2*np.pi, len(attribute_labels), endpoint=False)\n",
    "    stats = np.concatenate((stats,[stats[0]]))\n",
    "    avg_stats = np.concatenate((avg_stats,[avg_stats[0]]))\n",
    "    angles = np.concatenate((angles,[angles[0]]))\n",
    "    attribute_labels = np.concatenate((attribute_labels,[attribute_labels[0]]))\n",
    "    \n",
    "    fig = plt.figure()\n",
    "    ax = fig.add_subplot(111, polar=True)\n",
    "    ax.plot(angles, stats, 'o-',color = \"red\" ,linewidth=2,label = \"score\")\n",
    "    ax.fill(angles, stats,color = \"red\", alpha=0.25)\n",
    "    ax.plot(angles, avg_stats, 'o-',color = \"blue\" ,linewidth=2,label = \"average score\")\n",
    "    ax.fill(angles, avg_stats,color = \"blue\" ,alpha=0.25)\n",
    "    \n",
    "    ax.set_thetagrids(angles * 180/np.pi, attribute_labels)\n",
    "    plt.yticks(markers)\n",
    "    plt.legend(bbox_to_anchor=(1.3, 1), loc = \"right\")\n",
    "    plt.title(name, x = 0.5,y=1.1)\n",
    "    ax.grid(True)\n",
    "\n",
    "    return plt.show()"
   ]
  },
  {
   "cell_type": "code",
   "execution_count": 3,
   "id": "4ae6dd54-4acf-47bc-93f2-ee0519223001",
   "metadata": {},
   "outputs": [],
   "source": [
    "# data loading\n",
    "# 1029低配数据\n",
    "path = r\"E:\\UBI车险0105\\data\\real_data\\1029低配数据\"\n",
    "id_column = \"time_1\"\n",
    "var_column = \"PinionSteerAgGroupPinionSteerAg1\"\n",
    "new_id_column = \"time\"\n",
    "df_pinion = import_data(path,id_column,var_column,new_id_column)"
   ]
  },
  {
   "cell_type": "code",
   "execution_count": 4,
   "id": "ad73e8f1-439f-4fde-b32e-d8f7ef623fbe",
   "metadata": {},
   "outputs": [],
   "source": [
    "path = r\"E:\\UBI车险0105\\data\\real_data\\1029低配数据\"\n",
    "id_column = \"time_2\"\n",
    "var_column = \"AccrPedlLnrAccrPedlRat\"\n",
    "new_id_column = \"time\"\n",
    "df_Accr = import_data(path,id_column,var_column,new_id_column)"
   ]
  },
  {
   "cell_type": "code",
   "execution_count": 5,
   "id": "62929eeb-c1e4-49f2-9245-45d58361b156",
   "metadata": {},
   "outputs": [],
   "source": [
    "path = r\"E:\\UBI车险0105\\data\\real_data\\1029低配数据\"\n",
    "id_column = \"time_3\"\n",
    "var_column = \"BrkPedlTrvlAct\"\n",
    "new_id_column = \"time\"\n",
    "df_Brk = import_data(path,id_column,var_column,new_id_column)"
   ]
  },
  {
   "cell_type": "code",
   "execution_count": 6,
   "id": "913f56ad-2f15-46af-847b-9184abdc10c7",
   "metadata": {},
   "outputs": [
    {
     "name": "stderr",
     "output_type": "stream",
     "text": [
      "C:\\Users\\lenovo\\AppData\\Local\\Temp/ipykernel_11228/3728964536.py:5: DtypeWarning: Columns (6,12,42,84,90,140,152) have mixed types.Specify dtype option on import or set low_memory=False.\n",
      "  df_Veh = import_data(path,id_column,var_column,new_id_column)\n"
     ]
    }
   ],
   "source": [
    "path = r\"E:\\UBI车险0105\\data\\real_data\\10292022续航数据\\低配车\\1029_CAN_res\\CAN_res\"\n",
    "id_column = \"time_71\"\n",
    "var_column = \"VehSpdLgtA\"\n",
    "new_id_column = \"time\"\n",
    "df_Veh = import_data(path,id_column,var_column,new_id_column)"
   ]
  },
  {
   "cell_type": "code",
   "execution_count": 7,
   "id": "fa8a7b24-6417-4de4-9ce3-2a4a99f3fbe4",
   "metadata": {},
   "outputs": [],
   "source": [
    "# data merge\n",
    "df_list = [df_pinion,df_Accr,df_Brk,df_Veh]\n",
    "df_merged = reduce(lambda left,right: pd.merge(left,right,on = [\"time\"],how = \"inner\"),df_list)"
   ]
  },
  {
   "cell_type": "code",
   "execution_count": 8,
   "id": "d64bd3e6-0319-4b81-86d7-d05be14bbbf2",
   "metadata": {},
   "outputs": [],
   "source": [
    "# data cleasing\n",
    "df_merged[\"date\"] = df_merged[\"time\"].apply(timestamp2date)\n",
    "df_merged[\"VehSpdLgtA\"] = df_merged[\"VehSpdLgtA\"] * 3.6\n",
    "a,b = -0.08605,-0.2271\n",
    "df_merged[\"VehWheelSteer\"] = a * df_merged[\"PinionSteerAgGroupPinionSteerAg1\"] * 57.2958 + b\n",
    "df_merged[\"VehWheelSteer\"] = df_merged[\"VehWheelSteer\"] / 57.2958\n",
    "df_merged = partition_journey(df = df_merged, time = \"time\")\n",
    "df_merged = df_merged.groupby(\"journeyID\").apply(get_tgAcceleration,speed= \"VehSpdLgtA\",time = \"time\")\n",
    "df_merged = df_merged.groupby(\"journeyID\").apply(get_rdAcceleration,VehWheelSteer = \"VehWheelSteer\",speed = \"VehSpdLgtA\",time = \"time\")\n",
    "df_merged = df_merged.groupby(\"journeyID\").apply(lambda x:x.iloc[1:]).reset_index(drop = True)\n",
    "df_merged[\"is_meaningless\"] = df_merged.groupby(\"journeyID\")[\"VehSpdLgtA\"].transform(lambda v: True if (np.sum(v) == 0 or len(v) < 3 * 60) else False)\n",
    "df_merged = df_merged[~df_merged[\"is_meaningless\"]].reset_index(drop = True)"
   ]
  },
  {
   "cell_type": "code",
   "execution_count": 9,
   "id": "a9a5ef9a-be13-44eb-82ca-de7491a11075",
   "metadata": {},
   "outputs": [
    {
     "data": {
      "text/html": [
       "<div>\n",
       "<style scoped>\n",
       "    .dataframe tbody tr th:only-of-type {\n",
       "        vertical-align: middle;\n",
       "    }\n",
       "\n",
       "    .dataframe tbody tr th {\n",
       "        vertical-align: top;\n",
       "    }\n",
       "\n",
       "    .dataframe thead th {\n",
       "        text-align: right;\n",
       "    }\n",
       "</style>\n",
       "<table border=\"1\" class=\"dataframe\">\n",
       "  <thead>\n",
       "    <tr style=\"text-align: right;\">\n",
       "      <th></th>\n",
       "      <th>time</th>\n",
       "      <th>PinionSteerAgGroupPinionSteerAg1</th>\n",
       "      <th>AccrPedlLnrAccrPedlRat</th>\n",
       "      <th>BrkPedlTrvlAct</th>\n",
       "      <th>VehSpdLgtA</th>\n",
       "      <th>date</th>\n",
       "      <th>VehWheelSteer</th>\n",
       "      <th>journeyID</th>\n",
       "      <th>tg_acceleration</th>\n",
       "      <th>rd_acceleration</th>\n",
       "      <th>is_meaningless</th>\n",
       "    </tr>\n",
       "  </thead>\n",
       "  <tbody>\n",
       "    <tr>\n",
       "      <th>0</th>\n",
       "      <td>1667004466</td>\n",
       "      <td>0.000000</td>\n",
       "      <td>0.0</td>\n",
       "      <td>7.84</td>\n",
       "      <td>0.000000</td>\n",
       "      <td>2022-10-29 08:47:46</td>\n",
       "      <td>-0.003964</td>\n",
       "      <td>3</td>\n",
       "      <td>0.0</td>\n",
       "      <td>0.0</td>\n",
       "      <td>False</td>\n",
       "    </tr>\n",
       "    <tr>\n",
       "      <th>1</th>\n",
       "      <td>1667004467</td>\n",
       "      <td>2.804688</td>\n",
       "      <td>0.0</td>\n",
       "      <td>2.87</td>\n",
       "      <td>0.000000</td>\n",
       "      <td>2022-10-29 08:47:47</td>\n",
       "      <td>-0.245307</td>\n",
       "      <td>3</td>\n",
       "      <td>0.0</td>\n",
       "      <td>-0.0</td>\n",
       "      <td>False</td>\n",
       "    </tr>\n",
       "    <tr>\n",
       "      <th>2</th>\n",
       "      <td>1667004468</td>\n",
       "      <td>4.183594</td>\n",
       "      <td>0.0</td>\n",
       "      <td>1.71</td>\n",
       "      <td>3.434544</td>\n",
       "      <td>2022-10-29 08:47:48</td>\n",
       "      <td>-0.363962</td>\n",
       "      <td>3</td>\n",
       "      <td>0.95404</td>\n",
       "      <td>-0.407525</td>\n",
       "      <td>False</td>\n",
       "    </tr>\n",
       "    <tr>\n",
       "      <th>3</th>\n",
       "      <td>1667004469</td>\n",
       "      <td>0.053711</td>\n",
       "      <td>0.0</td>\n",
       "      <td>1.53</td>\n",
       "      <td>6.489036</td>\n",
       "      <td>2022-10-29 08:47:49</td>\n",
       "      <td>-0.008585</td>\n",
       "      <td>3</td>\n",
       "      <td>0.84847</td>\n",
       "      <td>2.30605</td>\n",
       "      <td>False</td>\n",
       "    </tr>\n",
       "    <tr>\n",
       "      <th>4</th>\n",
       "      <td>1667004470</td>\n",
       "      <td>-2.578125</td>\n",
       "      <td>0.0</td>\n",
       "      <td>2.01</td>\n",
       "      <td>8.896032</td>\n",
       "      <td>2022-10-29 08:47:50</td>\n",
       "      <td>0.217884</td>\n",
       "      <td>3</td>\n",
       "      <td>0.66861</td>\n",
       "      <td>2.01468</td>\n",
       "      <td>False</td>\n",
       "    </tr>\n",
       "    <tr>\n",
       "      <th>5</th>\n",
       "      <td>1667004471</td>\n",
       "      <td>-6.887695</td>\n",
       "      <td>0.0</td>\n",
       "      <td>1.94</td>\n",
       "      <td>8.839728</td>\n",
       "      <td>2022-10-29 08:47:51</td>\n",
       "      <td>0.588723</td>\n",
       "      <td>3</td>\n",
       "      <td>-0.01564</td>\n",
       "      <td>3.278112</td>\n",
       "      <td>False</td>\n",
       "    </tr>\n",
       "    <tr>\n",
       "      <th>6</th>\n",
       "      <td>1667004472</td>\n",
       "      <td>-7.263672</td>\n",
       "      <td>0.0</td>\n",
       "      <td>1.78</td>\n",
       "      <td>8.121852</td>\n",
       "      <td>2022-10-29 08:47:52</td>\n",
       "      <td>0.621075</td>\n",
       "      <td>3</td>\n",
       "      <td>-0.19941</td>\n",
       "      <td>0.262765</td>\n",
       "      <td>False</td>\n",
       "    </tr>\n",
       "    <tr>\n",
       "      <th>7</th>\n",
       "      <td>1667004473</td>\n",
       "      <td>-6.157227</td>\n",
       "      <td>0.0</td>\n",
       "      <td>0.91</td>\n",
       "      <td>7.868484</td>\n",
       "      <td>2022-10-29 08:47:53</td>\n",
       "      <td>0.525866</td>\n",
       "      <td>3</td>\n",
       "      <td>-0.07038</td>\n",
       "      <td>-0.749155</td>\n",
       "      <td>False</td>\n",
       "    </tr>\n",
       "    <tr>\n",
       "      <th>8</th>\n",
       "      <td>1667004474</td>\n",
       "      <td>-2.731445</td>\n",
       "      <td>0.0</td>\n",
       "      <td>1.54</td>\n",
       "      <td>7.854408</td>\n",
       "      <td>2022-10-29 08:47:54</td>\n",
       "      <td>0.231077</td>\n",
       "      <td>3</td>\n",
       "      <td>-0.00391</td>\n",
       "      <td>-2.315389</td>\n",
       "      <td>False</td>\n",
       "    </tr>\n",
       "    <tr>\n",
       "      <th>9</th>\n",
       "      <td>1667004475</td>\n",
       "      <td>-0.132812</td>\n",
       "      <td>0.0</td>\n",
       "      <td>2.66</td>\n",
       "      <td>7.150608</td>\n",
       "      <td>2022-10-29 08:47:55</td>\n",
       "      <td>0.007465</td>\n",
       "      <td>3</td>\n",
       "      <td>-0.1955</td>\n",
       "      <td>-1.598964</td>\n",
       "      <td>False</td>\n",
       "    </tr>\n",
       "  </tbody>\n",
       "</table>\n",
       "</div>"
      ],
      "text/plain": [
       "         time  PinionSteerAgGroupPinionSteerAg1  AccrPedlLnrAccrPedlRat  \\\n",
       "0  1667004466                          0.000000                     0.0   \n",
       "1  1667004467                          2.804688                     0.0   \n",
       "2  1667004468                          4.183594                     0.0   \n",
       "3  1667004469                          0.053711                     0.0   \n",
       "4  1667004470                         -2.578125                     0.0   \n",
       "5  1667004471                         -6.887695                     0.0   \n",
       "6  1667004472                         -7.263672                     0.0   \n",
       "7  1667004473                         -6.157227                     0.0   \n",
       "8  1667004474                         -2.731445                     0.0   \n",
       "9  1667004475                         -0.132812                     0.0   \n",
       "\n",
       "   BrkPedlTrvlAct  VehSpdLgtA                 date  VehWheelSteer  journeyID  \\\n",
       "0            7.84    0.000000  2022-10-29 08:47:46      -0.003964          3   \n",
       "1            2.87    0.000000  2022-10-29 08:47:47      -0.245307          3   \n",
       "2            1.71    3.434544  2022-10-29 08:47:48      -0.363962          3   \n",
       "3            1.53    6.489036  2022-10-29 08:47:49      -0.008585          3   \n",
       "4            2.01    8.896032  2022-10-29 08:47:50       0.217884          3   \n",
       "5            1.94    8.839728  2022-10-29 08:47:51       0.588723          3   \n",
       "6            1.78    8.121852  2022-10-29 08:47:52       0.621075          3   \n",
       "7            0.91    7.868484  2022-10-29 08:47:53       0.525866          3   \n",
       "8            1.54    7.854408  2022-10-29 08:47:54       0.231077          3   \n",
       "9            2.66    7.150608  2022-10-29 08:47:55       0.007465          3   \n",
       "\n",
       "  tg_acceleration rd_acceleration  is_meaningless  \n",
       "0             0.0             0.0           False  \n",
       "1             0.0            -0.0           False  \n",
       "2         0.95404       -0.407525           False  \n",
       "3         0.84847         2.30605           False  \n",
       "4         0.66861         2.01468           False  \n",
       "5        -0.01564        3.278112           False  \n",
       "6        -0.19941        0.262765           False  \n",
       "7        -0.07038       -0.749155           False  \n",
       "8        -0.00391       -2.315389           False  \n",
       "9         -0.1955       -1.598964           False  "
      ]
     },
     "execution_count": 9,
     "metadata": {},
     "output_type": "execute_result"
    }
   ],
   "source": [
    "df_merged.head(10)"
   ]
  },
  {
   "cell_type": "code",
   "execution_count": 10,
   "id": "97d7dc49-0b32-4390-9f43-7d97d6d3fbc1",
   "metadata": {},
   "outputs": [
    {
     "name": "stdout",
     "output_type": "stream",
     "text": [
      "explained_variance_ratio_:  [0.32223235 0.26676621 0.12573488 0.10983521 0.06176091]\n",
      "cummulative explained_variance_ratio_:  [0.32223235 0.58899856 0.71473344 0.82456865 0.88632956]\n"
     ]
    }
   ],
   "source": [
    "# data process\n",
    "## Steering risk factor\n",
    "rd_risk_factor = speed_rdAcc_factor(df = df_merged,journeyID = \"journeyID\",speed = \"VehSpdLgtA\",rd_acc = \"rd_acceleration\",bandwidth = 0.75,bins_num = 100,components_num = 5) "
   ]
  },
  {
   "cell_type": "code",
   "execution_count": 11,
   "id": "74d3f587-4966-4b85-ab23-1e4b4e62b028",
   "metadata": {},
   "outputs": [
    {
     "name": "stdout",
     "output_type": "stream",
     "text": [
      "explained_variance_ratio_:  [0.32613892 0.25929917 0.12848309 0.09391463 0.06307224]\n",
      "cummulative explained_variance_ratio_:  [0.32613892 0.5854381  0.71392119 0.80783581 0.87090805]\n"
     ]
    }
   ],
   "source": [
    "## Acceleration risk factor \n",
    "tang_risk_factor = speed_tgAcc_factor(df = df_merged, journeyID = \"journeyID\",speed = \"VehSpdLgtA\",tg_acc = \"tg_acceleration\",bandwidth = 0.75,bins_num = 100,components_num = 5)"
   ]
  },
  {
   "cell_type": "code",
   "execution_count": 12,
   "id": "6f9a3cc0-5fb4-46fb-81a3-6b70c62866bc",
   "metadata": {},
   "outputs": [],
   "source": [
    "## fatigue risk factor\n",
    "fatigue_risk_factor = df_merged.groupby(\"journeyID\")[\"VehSpdLgtA\"].apply(lambda v:v[v > 0].count()) #  The duration of continuous driving (sec)\n",
    "fatigue_risk_factor.name = \"Fatigue\""
   ]
  },
  {
   "cell_type": "code",
   "execution_count": 13,
   "id": "f5a2eddd-d884-4065-8342-30079faff512",
   "metadata": {},
   "outputs": [
    {
     "data": {
      "text/html": [
       "<div>\n",
       "<style scoped>\n",
       "    .dataframe tbody tr th:only-of-type {\n",
       "        vertical-align: middle;\n",
       "    }\n",
       "\n",
       "    .dataframe tbody tr th {\n",
       "        vertical-align: top;\n",
       "    }\n",
       "\n",
       "    .dataframe thead th {\n",
       "        text-align: right;\n",
       "    }\n",
       "</style>\n",
       "<table border=\"1\" class=\"dataframe\">\n",
       "  <thead>\n",
       "    <tr style=\"text-align: right;\">\n",
       "      <th></th>\n",
       "      <th>Steering</th>\n",
       "      <th>Ac(De)celeration</th>\n",
       "      <th>Fatigue</th>\n",
       "    </tr>\n",
       "    <tr>\n",
       "      <th>journeyID</th>\n",
       "      <th></th>\n",
       "      <th></th>\n",
       "      <th></th>\n",
       "    </tr>\n",
       "  </thead>\n",
       "  <tbody>\n",
       "    <tr>\n",
       "      <th>3</th>\n",
       "      <td>43.423336</td>\n",
       "      <td>39.879619</td>\n",
       "      <td>97.062484</td>\n",
       "    </tr>\n",
       "    <tr>\n",
       "      <th>8</th>\n",
       "      <td>0.000000</td>\n",
       "      <td>40.274735</td>\n",
       "      <td>100.000000</td>\n",
       "    </tr>\n",
       "    <tr>\n",
       "      <th>9</th>\n",
       "      <td>61.515491</td>\n",
       "      <td>81.093314</td>\n",
       "      <td>16.106547</td>\n",
       "    </tr>\n",
       "    <tr>\n",
       "      <th>11</th>\n",
       "      <td>79.351883</td>\n",
       "      <td>94.578454</td>\n",
       "      <td>8.812547</td>\n",
       "    </tr>\n",
       "    <tr>\n",
       "      <th>12</th>\n",
       "      <td>100.000000</td>\n",
       "      <td>86.114774</td>\n",
       "      <td>32.287777</td>\n",
       "    </tr>\n",
       "    <tr>\n",
       "      <th>13</th>\n",
       "      <td>64.962489</td>\n",
       "      <td>83.160884</td>\n",
       "      <td>67.313916</td>\n",
       "    </tr>\n",
       "    <tr>\n",
       "      <th>14</th>\n",
       "      <td>67.163134</td>\n",
       "      <td>83.179657</td>\n",
       "      <td>28.603435</td>\n",
       "    </tr>\n",
       "    <tr>\n",
       "      <th>15</th>\n",
       "      <td>77.619790</td>\n",
       "      <td>100.000000</td>\n",
       "      <td>37.615136</td>\n",
       "    </tr>\n",
       "    <tr>\n",
       "      <th>16</th>\n",
       "      <td>76.914521</td>\n",
       "      <td>12.213014</td>\n",
       "      <td>52.377396</td>\n",
       "    </tr>\n",
       "    <tr>\n",
       "      <th>17</th>\n",
       "      <td>98.652564</td>\n",
       "      <td>80.230849</td>\n",
       "      <td>0.000000</td>\n",
       "    </tr>\n",
       "    <tr>\n",
       "      <th>18</th>\n",
       "      <td>66.459459</td>\n",
       "      <td>0.000000</td>\n",
       "      <td>55.763007</td>\n",
       "    </tr>\n",
       "  </tbody>\n",
       "</table>\n",
       "</div>"
      ],
      "text/plain": [
       "             Steering  Ac(De)celeration     Fatigue\n",
       "journeyID                                          \n",
       "3           43.423336         39.879619   97.062484\n",
       "8            0.000000         40.274735  100.000000\n",
       "9           61.515491         81.093314   16.106547\n",
       "11          79.351883         94.578454    8.812547\n",
       "12         100.000000         86.114774   32.287777\n",
       "13          64.962489         83.160884   67.313916\n",
       "14          67.163134         83.179657   28.603435\n",
       "15          77.619790        100.000000   37.615136\n",
       "16          76.914521         12.213014   52.377396\n",
       "17          98.652564         80.230849    0.000000\n",
       "18          66.459459          0.000000   55.763007"
      ]
     },
     "execution_count": 13,
     "metadata": {},
     "output_type": "execute_result"
    }
   ],
   "source": [
    "risk_factors = pd.concat([rd_risk_factor,tang_risk_factor,fatigue_risk_factor],axis = 1)\n",
    "risk_factors = risk_factors.apply(lambda v: (v - np.min(v)) / (np.max(v) - np.min(v)) * 100)\n",
    "risk_factors = 100 - risk_factors\n",
    "risk_factors"
   ]
  },
  {
   "cell_type": "code",
   "execution_count": 14,
   "id": "c9714e88-5bcf-47a7-8841-61cb7755339f",
   "metadata": {},
   "outputs": [
    {
     "data": {
      "image/png": "[encoded data removed]",
      "text/plain": [
       "<Figure size 432x288 with 1 Axes>"
      ]
     },
     "metadata": {
      "needs_background": "light"
     },
     "output_type": "display_data"
    }
   ],
   "source": [
    "# data visualize\n",
    "journeyID = 3\n",
    "df_vis = df_merged[df_merged[\"journeyID\"] == journeyID]\n",
    "stats_vis = risk_factors.loc[journeyID]\n",
    "\n",
    "labels=['Steerings', 'Acceleration', 'Fatigue']\n",
    "markers = [0, 20, 40,60,80,100]\n",
    "avg_stats = risk_factors.mean()\n",
    "make_radar_chart(\"JourneyID: {}\".format(journeyID), stats = list(stats_vis),avg_stats = avg_stats, attribute_labels = labels,\n",
    "                     plot_markers = markers)"
   ]
  },
  {
   "cell_type": "code",
   "execution_count": 15,
   "id": "3f975b77-4dda-47ce-b3dc-ea53a6bc978e",
   "metadata": {},
   "outputs": [
    {
     "data": {
      "image/png": "[encoded data removed]",
      "text/plain": [
       "<Figure size 432x288 with 2 Axes>"
      ]
     },
     "metadata": {
      "needs_background": "light"
     },
     "output_type": "display_data"
    }
   ],
   "source": [
    "x,y = df_vis[\"VehSpdLgtA\"],df_vis[\"rd_acceleration\"]\n",
    "xx,yy,zz,z_norm = kde2D(x,y,bandwidth = 2)\n",
    "plt.pcolormesh(xx, yy, zz,shading='auto')\n",
    "plt.colorbar()\n",
    "plt.scatter(x, y, s=10, facecolor='white')\n",
    "plt.xlabel(\"$Speed(km/h)$\")\n",
    "plt.ylabel(\"$rd_acceleration(m/s^2)$\")\n",
    "plt.show()"
   ]
  },
  {
   "cell_type": "code",
   "execution_count": 16,
   "id": "3d4b7f07-c413-4b3e-98a9-14ba397adba4",
   "metadata": {},
   "outputs": [
    {
     "data": {
      "image/png": "[encoded data removed]",
      "text/plain": [
       "<Figure size 432x288 with 2 Axes>"
      ]
     },
     "metadata": {
      "needs_background": "light"
     },
     "output_type": "display_data"
    }
   ],
   "source": [
    "x,y = df_vis[\"VehSpdLgtA\"],df_vis[\"tg_acceleration\"]\n",
    "xx,yy,zz,z_norm = kde2D(x,y,bandwidth = 2)\n",
    "plt.pcolormesh(xx, yy, zz,shading='auto')\n",
    "plt.colorbar()\n",
    "plt.scatter(x, y, s=10, facecolor='white')\n",
    "plt.xlabel(\"$Speed(km/h)$\")\n",
    "plt.ylabel(\"$Acceleration(m/s^2)$\")\n",
    "plt.show()"
   ]
  },
  {
   "cell_type": "code",
   "execution_count": 17,
   "id": "78edcc9d-206f-44a9-b83f-5e187f2899c9",
   "metadata": {},
   "outputs": [
    {
     "data": {
      "image/png": "[encoded data removed]",
      "text/plain": [
       "<Figure size 432x288 with 1 Axes>"
      ]
     },
     "metadata": {
      "needs_background": "light"
     },
     "output_type": "display_data"
    }
   ],
   "source": [
    "df_vis[\"VehSpdLgtA\"].plot()\n",
    "plt.ylim(np.min(df_merged[\"VehSpdLgtA\"]),np.max(df_merged[\"VehSpdLgtA\"]))\n",
    "plt.show()"
   ]
  },
  {
   "cell_type": "code",
   "execution_count": 18,
   "id": "1f80196b-a9a1-4c7c-98a7-e4617372dcd4",
   "metadata": {},
   "outputs": [
    {
     "data": {
      "image/png": "[encoded data removed]",
      "text/plain": [
       "<Figure size 432x288 with 1 Axes>"
      ]
     },
     "metadata": {
      "needs_background": "light"
     },
     "output_type": "display_data"
    }
   ],
   "source": [
    "df_vis[\"tg_acceleration\"].plot()\n",
    "plt.ylim(np.min(df_merged[\"tg_acceleration\"]),np.max(df_merged[\"tg_acceleration\"]))\n",
    "plt.show()"
   ]
  },
  {
   "cell_type": "code",
   "execution_count": 19,
   "id": "579d94e1-a788-45fc-8759-7e2480f5ac1c",
   "metadata": {},
   "outputs": [
    {
     "data": {
      "image/png": "[encoded data removed]",
      "text/plain": [
       "<Figure size 432x288 with 1 Axes>"
      ]
     },
     "metadata": {
      "needs_background": "light"
     },
     "output_type": "display_data"
    }
   ],
   "source": [
    "df_vis[\"rd_acceleration\"].plot()\n",
    "plt.ylim(np.min(df_merged[\"rd_acceleration\"]),np.max(df_merged[\"rd_acceleration\"]))\n",
    "plt.show()"
   ]
  }
 ],
 "metadata": {
  "kernelspec": {
   "display_name": "Python 3 (ipykernel)",
   "language": "python",
   "name": "python3"
  },
  "language_info": {
   "codemirror_mode": {
    "name": "ipython",
    "version": 3
   },
   "file_extension": ".py",
   "mimetype": "text/x-python",
   "name": "python",
   "nbconvert_exporter": "python",
   "pygments_lexer": "ipython3",
   "version": "3.9.7"
  }
 },
 "nbformat": 4,
 "nbformat_minor": 5
}
